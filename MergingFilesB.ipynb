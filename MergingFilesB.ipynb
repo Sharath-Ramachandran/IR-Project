{
 "cells": [
  {
   "cell_type": "code",
   "execution_count": 1,
   "metadata": {},
   "outputs": [],
   "source": [
    "import glob\n",
    "import pandas as pd\n",
    "df11= pd.concat(list(map(pd.read_csv,glob.glob(\"./*_TrainB.csv\"))),axis=1)\n",
    "#df11=pd.merge()\n",
    "df11.index += 1 \n",
    "df11.to_csv('merged_input_file_TrainB.csv',sep=' ')"
   ]
  },
  {
   "cell_type": "code",
   "execution_count": 2,
   "metadata": {},
   "outputs": [],
   "source": [
    "df12= pd.concat(list(map(pd.read_csv,glob.glob(\"./*_TestB.csv\"))),axis=1)\n",
    "#df11=pd.merge()\n",
    "df12.index += 1 \n",
    "df12.to_csv('merged_input_file_TestB.csv',sep=' ')"
   ]
  },
  {
   "cell_type": "code",
   "execution_count": null,
   "metadata": {},
   "outputs": [],
   "source": []
  },
  {
   "cell_type": "code",
   "execution_count": null,
   "metadata": {},
   "outputs": [],
   "source": []
  }
 ],
 "metadata": {
  "kernelspec": {
   "display_name": "Python 3",
   "language": "python",
   "name": "python3"
  },
  "language_info": {
   "codemirror_mode": {
    "name": "ipython",
    "version": 3
   },
   "file_extension": ".py",
   "mimetype": "text/x-python",
   "name": "python",
   "nbconvert_exporter": "python",
   "pygments_lexer": "ipython3",
   "version": "3.6.6"
  }
 },
 "nbformat": 4,
 "nbformat_minor": 2
}
